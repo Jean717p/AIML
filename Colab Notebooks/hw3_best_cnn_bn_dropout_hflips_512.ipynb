{
 "cells": [
  {
   "cell_type": "code",
   "execution_count": 0,
   "metadata": {
    "colab": {
     "base_uri": "https://localhost:8080/",
     "height": 35
    },
    "colab_type": "code",
    "id": "iAPl-9kU0ZGR",
    "outputId": "5c5d15cd-5234-4b9e-cfcb-7d116ab3f610"
   },
   "outputs": [
    {
     "name": "stdout",
     "output_type": "stream",
     "text": [
      "P0 Done\n"
     ]
    }
   ],
   "source": [
    "#!pip3 install -q http://download.pytorch.org/whl/cu90/torch-0.4.0-cp36-cp36m-linux_x86_64.whl\n",
    "#!pip3 install torchvision\n",
    "\n",
    "# http://pytorch.org/\n",
    "from os.path import exists\n",
    "from wheel.pep425tags import get_abbr_impl, get_impl_ver, get_abi_tag\n",
    "platform = '{}{}-{}'.format(get_abbr_impl(), get_impl_ver(), get_abi_tag())\n",
    "cuda_output = !ldconfig -p|grep cudart.so|sed -e 's/.*\\.\\([0-9]*\\)\\.\\([0-9]*\\)$/cu\\1\\2/'\n",
    "accelerator = cuda_output[0] if exists('/dev/nvidia0') else 'cpu'\n",
    "\n",
    "!pip install -q http://download.pytorch.org/whl/{accelerator}/torch-0.4.1-{platform}-linux_x86_64.whl torchvision\n",
    "print('P0 Done')"
   ]
  },
  {
   "cell_type": "code",
   "execution_count": 0,
   "metadata": {
    "colab": {},
    "colab_type": "code",
    "id": "0baK4zB_2uZz"
   },
   "outputs": [],
   "source": [
    "%matplotlib inline\n",
    "import torch\n",
    "import torchvision\n",
    "from torchvision import models\n",
    "import torchvision.transforms as transforms\n",
    "from torchvision.transforms import ToPILImage\n",
    "import torch.optim as optim\n",
    "\n",
    "import torch.nn as nn\n",
    "import torch.nn.functional as F\n",
    "\n",
    "import matplotlib.pyplot as plt\n",
    "\n",
    "import numpy as np\n",
    "import time\n",
    "import datetime\n",
    "\n",
    "# function to show an image\n",
    "def imshow(img):\n",
    "    img = img / 2 + 0.5     # unnormalize\n",
    "    npimg = img.numpy()\n",
    "    plt.imshow(np.transpose(npimg, (1, 2, 0)))\n",
    "    plt.show()\n",
    "    \n",
    "def plot_kernel(model):\n",
    "    model_weights = model.state_dict()\n",
    "    fig = plt.figure()\n",
    "    plt.figure(figsize=(10,10))\n",
    "    for idx, filt  in enumerate(model_weights['conv1.weight']):\n",
    "    #print(filt[0, :, :])\n",
    "        if idx >= 32: continue\n",
    "        plt.subplot(4,8, idx + 1)\n",
    "        plt.imshow(filt[0, :, :], cmap=\"gray\")\n",
    "        plt.axis('off')\n",
    "    \n",
    "    plt.show()\n",
    "\n",
    "def plot_kernel_output(model,images):\n",
    "    fig1 = plt.figure()\n",
    "    plt.figure(figsize=(1,1))\n",
    "    \n",
    "    img_normalized = (images[0] - images[0].min()) / (images[0].max() - images[0].min())\n",
    "    plt.imshow(img_normalized.numpy().transpose(1,2,0))\n",
    "    plt.show()\n",
    "    output = model.conv1(images)\n",
    "    layer_1 = output[0, :, :, :]\n",
    "    layer_1 = layer_1.data\n",
    "\n",
    "    fig = plt.figure()\n",
    "    plt.figure(figsize=(10,10))\n",
    "    for idx, filt  in enumerate(layer_1):\n",
    "        if idx >= 32: continue\n",
    "        plt.subplot(4,8, idx + 1)\n",
    "        plt.imshow(filt, cmap=\"gray\")\n",
    "        plt.axis('off')\n",
    "    plt.show()\n",
    "\n",
    "def test_accuracy(net, dataloader):\n",
    "  ########TESTING PHASE###########\n",
    "  \n",
    "    #check accuracy on whole test set\n",
    "    correct = 0\n",
    "    total = 0\n",
    "    net.eval() #important for deactivating dropout and correctly use batchnorm accumulated statistics\n",
    "    with torch.no_grad():\n",
    "        for data in dataloader:\n",
    "            images, labels = data\n",
    "            images = images.cuda()\n",
    "            labels = labels.cuda()\n",
    "            outputs = net(images)\n",
    "            _, predicted = torch.max(outputs.data, 1)\n",
    "            total += labels.size(0)\n",
    "            correct += (predicted == labels).sum().item()\n",
    "    accuracy = 100 * correct / total\n",
    "    print('Accuracy of the network on the test set: %d %%' % (\n",
    "    accuracy))\n",
    "    return accuracy\n",
    "\n",
    "    \n",
    "n_classes = 100 \n",
    "# function to define an old style fully connected network (multilayer perceptrons)\n",
    "class old_nn(nn.Module):\n",
    "    def __init__(self):\n",
    "        super(old_nn, self).__init__()\n",
    "        self.fc1 = nn.Linear(32*32*3, 4096)\n",
    "        self.fc2 = nn.Linear(4096, 4096)\n",
    "        self.fc3 = nn.Linear(4096, n_classes) #last FC for classification \n",
    "\n",
    "    def forward(self, x):\n",
    "        x = x.view(x.shape[0], -1)\n",
    "        x = F.sigmoid(self.fc1(x))\n",
    "        x = F.sigmoid(self.fc2(x))\n",
    "        x = self.fc3(x)\n",
    "        return x\n",
    "      \n",
    "      \n",
    "#function to define the convolutional network\n",
    "class CNN(nn.Module):\n",
    "    def __init__(self):\n",
    "        super(CNN, self).__init__()\n",
    "        #conv2d first parameter is the number of kernels at input (you get it from the output value of the previous layer)\n",
    "        #conv2d second parameter is the number of kernels you wanna have in your convolution, so it will be the n. of kernels at output.\n",
    "        #conv2d third, fourth and fifth parameters are, as you can read, kernel_size, stride and zero padding :)\n",
    "        self.conv1 = nn.Conv2d(3, 512, kernel_size=5, stride=2, padding=0)\n",
    "        self.conv1_bn = nn.BatchNorm2d(512)\n",
    "        self.conv2 = nn.Conv2d(512, 512, kernel_size=3, stride=1, padding=0)\n",
    "        self.conv2_bn = nn.BatchNorm2d(512)\n",
    "        self.conv3 = nn.Conv2d(512, 512, kernel_size=3, stride=1, padding=0)\n",
    "        self.conv3_bn = nn.BatchNorm2d(512)\n",
    "        self.pool = nn.MaxPool2d(kernel_size=2, stride=2, padding=0)\n",
    "        self.conv_final = nn.Conv2d(512, 1024, kernel_size=3, stride=1, padding=0)\n",
    "        self.conv_final_bn = nn.BatchNorm2d(1024)\n",
    "        self.fc1 = nn.Linear(64 * 4 * 4 * 4 * 4, 4096)\n",
    "        self.dropout = nn.Dropout(p=0.5)\n",
    "        self.fc2 = nn.Linear(4096, n_classes) #last FC for classification \n",
    "\n",
    "    def forward(self, x):\n",
    "        x = F.relu(self.conv1_bn(self.conv1(x)))\n",
    "        x = F.relu(self.conv2_bn(self.conv2(x)))\n",
    "        x = F.relu(self.conv3_bn(self.conv3(x)))\n",
    "        x = F.relu(self.pool(self.conv_final_bn(self.conv_final(x))))\n",
    "        x = x.view(x.shape[0], -1)\n",
    "        x = F.relu(self.fc1(x))\n",
    "        #hint: dropout goes here!\n",
    "        x = self.dropout(x)\n",
    "        x = self.fc2(x)\n",
    "        return x\n"
   ]
  },
  {
   "cell_type": "code",
   "execution_count": 0,
   "metadata": {
    "colab": {
     "base_uri": "https://localhost:8080/",
     "height": 90
    },
    "colab_type": "code",
    "id": "VixTdwqJ8yAI",
    "outputId": "0fc3956d-f937-4355-e93d-dbab0c657882"
   },
   "outputs": [
    {
     "name": "stdout",
     "output_type": "stream",
     "text": [
      "Loading data...\n",
      "Files already downloaded and verified\n",
      "Files already downloaded and verified\n",
      "Loading done\n"
     ]
    }
   ],
   "source": [
    "\n",
    "      ####RUNNING CODE FROM HERE:\n",
    "print('Loading data...')      \n",
    "#transform are heavily used to do simple and complex transformation and data augmentation\n",
    "transform_train = transforms.Compose(\n",
    "    [\n",
    "     transforms.RandomHorizontalFlip(),\n",
    "     transforms.Resize((32,32)),\n",
    "     transforms.ToTensor(),\n",
    "     transforms.Normalize((0.5, 0.5, 0.5), (0.5, 0.5, 0.5)),\n",
    "    ])\n",
    "\n",
    "transform_test = transforms.Compose(\n",
    "    [\n",
    "     transforms.Resize((32,32)),\n",
    "     transforms.ToTensor(),\n",
    "     transforms.Normalize((0.5, 0.5, 0.5), (0.5, 0.5, 0.5)),\n",
    "     ])\n",
    "\n",
    "trainset = torchvision.datasets.CIFAR100(root='./data', train=True,\n",
    "                                        download=True, transform=transform_train)\n",
    "trainloader = torch.utils.data.DataLoader(trainset, batch_size=256,\n",
    "                                          shuffle=True, num_workers=4,drop_last=True)\n",
    "\n",
    "testset = torchvision.datasets.CIFAR100(root='./data', train=False,\n",
    "                                       download=True, transform=transform_test)\n",
    "testloader = torch.utils.data.DataLoader(testset, batch_size=256,\n",
    "                                         shuffle=False, num_workers=4,drop_last=True)\n",
    "\n",
    "\n",
    "dataiter = iter(trainloader)\n",
    "\n",
    "print('Loading done')\n"
   ]
  },
  {
   "cell_type": "code",
   "execution_count": 0,
   "metadata": {
    "colab": {
     "base_uri": "https://localhost:8080/",
     "height": 35
    },
    "colab_type": "code",
    "id": "OQs4kmrB-E7E",
    "outputId": "f89660a8-7228-43cf-fd55-d3d58edfef7a"
   },
   "outputs": [
    {
     "name": "stdout",
     "output_type": "stream",
     "text": [
      "Ready to train\n"
     ]
    }
   ],
   "source": [
    "###OPTIONAL:\n",
    "# show images just to understand what is inside the dataset ;)\n",
    "#images, labels = dataiter.next()\n",
    "#imshow(torchvision.utils.make_grid(images))\n",
    "####\n",
    "\n",
    "\n",
    "#create the old style NN network\n",
    "#net = old_nn()\n",
    "###\n",
    "\n",
    "net = CNN()\n",
    "####\n",
    "#for Residual Network:\n",
    "#net = models.resnet18(pretrained=True)\n",
    "#net.fc = nn.Linear(512, n_classes) #changing the fully connected layer of the already allocated network\n",
    "####\n",
    "\n",
    "###OPTIONAL:\n",
    "#print(\"####plotting kernels of conv1 layer:####\")\n",
    "#plot_kernel(net)\n",
    "####\n",
    "\n",
    "\n",
    "net = net.cuda()\n",
    "\n",
    "criterion = nn.CrossEntropyLoss().cuda() #it already does softmax computation for use!\n",
    "optimizer = optim.Adam(net.parameters(), lr=0.0001) #better convergency w.r.t simple SGD :)\n",
    "\n",
    "###OPTIONAL:\n",
    "#print(\"####plotting output of conv1 layer:#####\")\n",
    "#plot_kernel_output(net,images)  \n",
    "###\n",
    "print('Ready to train')"
   ]
  },
  {
   "cell_type": "code",
   "execution_count": 0,
   "metadata": {
    "colab": {
     "base_uri": "https://localhost:8080/",
     "height": 747
    },
    "colab_type": "code",
    "id": "UQsI7e0N8jXz",
    "outputId": "827c3dcc-6264-46b3-dd68-0c97901539e3"
   },
   "outputs": [
    {
     "name": "stdout",
     "output_type": "stream",
     "text": [
      "[1,   195] loss: 3.636\n",
      "Accuracy of the network on the test set: 25 %\n",
      "[2,   195] loss: 2.895\n",
      "Accuracy of the network on the test set: 34 %\n",
      "[3,   195] loss: 2.497\n",
      "Accuracy of the network on the test set: 38 %\n",
      "[4,   195] loss: 2.231\n",
      "Accuracy of the network on the test set: 41 %\n",
      "[5,   195] loss: 2.040\n",
      "Accuracy of the network on the test set: 45 %\n",
      "[6,   195] loss: 1.876\n",
      "Accuracy of the network on the test set: 47 %\n",
      "[7,   195] loss: 1.743\n",
      "Accuracy of the network on the test set: 49 %\n",
      "[8,   195] loss: 1.626\n",
      "Accuracy of the network on the test set: 51 %\n",
      "[9,   195] loss: 1.514\n",
      "Accuracy of the network on the test set: 52 %\n",
      "[10,   195] loss: 1.419\n",
      "Accuracy of the network on the test set: 52 %\n",
      "[11,   195] loss: 1.324\n",
      "Accuracy of the network on the test set: 54 %\n",
      "[12,   195] loss: 1.241\n",
      "Accuracy of the network on the test set: 55 %\n",
      "[13,   195] loss: 1.161\n",
      "Accuracy of the network on the test set: 55 %\n",
      "[14,   195] loss: 1.078\n",
      "Accuracy of the network on the test set: 55 %\n",
      "[15,   195] loss: 1.009\n",
      "Accuracy of the network on the test set: 55 %\n",
      "[16,   195] loss: 0.939\n",
      "Accuracy of the network on the test set: 57 %\n",
      "[17,   195] loss: 0.864\n",
      "Accuracy of the network on the test set: 56 %\n",
      "[18,   195] loss: 0.798\n",
      "Accuracy of the network on the test set: 56 %\n",
      "[19,   195] loss: 0.736\n",
      "Accuracy of the network on the test set: 58 %\n",
      "[20,   195] loss: 0.679\n",
      "Accuracy of the network on the test set: 57 %\n",
      "Finished Training in 0:45:27.400072 seconds\n"
     ]
    }
   ],
   "source": [
    "########TRAINING PHASE###########\n",
    "t0 = time.time()\n",
    "n_loss_print = len(trainloader)  #print every epoch, use smaller numbers if you wanna print loss more often!\n",
    "n_epochs = 20\n",
    "accus = np.empty(n_epochs)\n",
    "losses = np.empty(n_epochs)\n",
    "for epoch in range(n_epochs):  # loop over the dataset multiple times\n",
    "    net.train() #important for activating dropout and correctly train batchnorm\n",
    "    running_loss = 0.0\n",
    "    for i, data in enumerate(trainloader, 0):\n",
    "        # get the inputs and cast them into cuda wrapper\n",
    "        inputs, labels = data\n",
    "        inputs = inputs.cuda()\n",
    "        labels = labels.cuda()\n",
    "        # zero the parameter gradients\n",
    "        optimizer.zero_grad()\n",
    "\n",
    "        # forward + backward + optimize\n",
    "        outputs = net(inputs)\n",
    "        loss = criterion(outputs, labels)\n",
    "        loss.backward()\n",
    "        optimizer.step()\n",
    "\n",
    "        # print statistics\n",
    "        running_loss += loss.item()\n",
    "        if i % n_loss_print == (n_loss_print -1):    \n",
    "            print('[%d, %5d] loss: %.3f' %\n",
    "                  (epoch + 1, i + 1, running_loss / n_loss_print))\n",
    "            losses[epoch] = running_loss / n_loss_print\n",
    "            running_loss = 0.0\n",
    "    accus[epoch] = test_accuracy(net,testloader)\n",
    "print('Finished Training in '+str(datetime.timedelta(seconds = time.time()-t0))+' seconds')\n"
   ]
  },
  {
   "cell_type": "code",
   "execution_count": 0,
   "metadata": {
    "colab": {
     "base_uri": "https://localhost:8080/",
     "height": 331
    },
    "colab_type": "code",
    "id": "evWQ0m76i263",
    "outputId": "d2ac629c-d572-4605-cc99-f8799b4e1f65"
   },
   "outputs": [
    {
     "data": {
      "image/png": "[encoded data removed]",
      "text/plain": [
       "<Figure size 432x288 with 1 Axes>"
      ]
     },
     "metadata": {
      "tags": []
     },
     "output_type": "display_data"
    }
   ],
   "source": [
    "plt.plot(accus, label='Accuracy', marker='D', color='blue')\n",
    "plt.title('Accuracy curve')\n",
    "plt.tight_layout()\n",
    "plt.xticks(np.arange(0, n_epochs, step=1))\n",
    "plt.ylabel('Accuracy')\n",
    "plt.xlabel('Epochs')\n",
    "plt.show()\n",
    "\n"
   ]
  },
  {
   "cell_type": "code",
   "execution_count": 0,
   "metadata": {
    "colab": {
     "base_uri": "https://localhost:8080/",
     "height": 331
    },
    "colab_type": "code",
    "id": "TEFmFy9_JkN0",
    "outputId": "1b5d681b-0b61-4dd9-f19c-7391aed4bbab"
   },
   "outputs": [
    {
     "data": {
      "image/png": "[encoded data removed]",
      "text/plain": [
       "<Figure size 432x288 with 1 Axes>"
      ]
     },
     "metadata": {
      "tags": []
     },
     "output_type": "display_data"
    }
   ],
   "source": [
    "plt.plot(losses, label='Loss',marker='D',color='red')\n",
    "plt.title('Loss curve')\n",
    "plt.tight_layout()\n",
    "plt.xticks(np.arange(0, n_epochs, step=1))\n",
    "plt.ylabel('Loss')\n",
    "plt.xlabel('Epochs')\n",
    "plt.show()"
   ]
  }
 ],
 "metadata": {
  "accelerator": "GPU",
  "colab": {
   "collapsed_sections": [],
   "name": "hw3_best_cnn_bn_dropout_hflips_512.ipynb",
   "provenance": [],
   "version": "0.3.2"
  },
  "kernelspec": {
   "display_name": "Python 3",
   "language": "python",
   "name": "python3"
  },
  "language_info": {
   "codemirror_mode": {
    "name": "ipython",
    "version": 3
   },
   "file_extension": ".py",
   "mimetype": "text/x-python",
   "name": "python",
   "nbconvert_exporter": "python",
   "pygments_lexer": "ipython3",
   "version": "3.7.0"
  }
 },
 "nbformat": 4,
 "nbformat_minor": 1
}
