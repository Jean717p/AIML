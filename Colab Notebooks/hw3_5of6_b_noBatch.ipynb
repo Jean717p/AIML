{
  "nbformat": 4,
  "nbformat_minor": 0,
  "metadata": {
    "colab": {
      "name": "hw3_5of6_b_noBatch.ipynb",
      "version": "0.3.2",
      "provenance": [],
      "collapsed_sections": []
    },
    "kernelspec": {
      "display_name": "Python 3",
      "language": "python",
      "name": "python3"
    },
    "accelerator": "GPU"
  },
  "cells": [
    {
      "metadata": {
        "colab_type": "code",
        "id": "iAPl-9kU0ZGR",
        "outputId": "220f27de-2ada-4658-951f-6badb6d3d63a",
        "colab": {
          "base_uri": "https://localhost:8080/",
          "height": 35
        }
      },
      "cell_type": "code",
      "source": [
        "#!pip3 install -q http://download.pytorch.org/whl/cu90/torch-0.4.0-cp36-cp36m-linux_x86_64.whl\n",
        "#!pip3 install torchvision\n",
        "\n",
        "# http://pytorch.org/\n",
        "from os.path import exists\n",
        "from wheel.pep425tags import get_abbr_impl, get_impl_ver, get_abi_tag\n",
        "platform = '{}{}-{}'.format(get_abbr_impl(), get_impl_ver(), get_abi_tag())\n",
        "cuda_output = !ldconfig -p|grep cudart.so|sed -e 's/.*\\.\\([0-9]*\\)\\.\\([0-9]*\\)$/cu\\1\\2/'\n",
        "accelerator = cuda_output[0] if exists('/dev/nvidia0') else 'cpu'\n",
        "\n",
        "!pip install -q http://download.pytorch.org/whl/{accelerator}/torch-0.4.1-{platform}-linux_x86_64.whl torchvision\n",
        "print('P0 Done')"
      ],
      "execution_count": 1,
      "outputs": [
        {
          "output_type": "stream",
          "text": [
            "P0 Done\n"
          ],
          "name": "stdout"
        }
      ]
    },
    {
      "metadata": {
        "colab_type": "code",
        "id": "0baK4zB_2uZz",
        "colab": {}
      },
      "cell_type": "code",
      "source": [
        "%matplotlib inline\n",
        "import torch\n",
        "import torchvision\n",
        "from torchvision import models\n",
        "import torchvision.transforms as transforms\n",
        "from torchvision.transforms import ToPILImage\n",
        "import torch.optim as optim\n",
        "\n",
        "import torch.nn as nn\n",
        "import torch.nn.functional as F\n",
        "\n",
        "import matplotlib.pyplot as plt\n",
        "\n",
        "import numpy as np\n",
        "import time\n",
        "import datetime\n",
        "\n",
        "# function to show an image\n",
        "def imshow(img):\n",
        "    img = img / 2 + 0.5     # unnormalize\n",
        "    npimg = img.numpy()\n",
        "    plt.imshow(np.transpose(npimg, (1, 2, 0)))\n",
        "    plt.show()\n",
        "    \n",
        "def plot_kernel(model):\n",
        "    model_weights = model.state_dict()\n",
        "    fig = plt.figure()\n",
        "    plt.figure(figsize=(10,10))\n",
        "    for idx, filt  in enumerate(model_weights['conv1.weight']):\n",
        "    #print(filt[0, :, :])\n",
        "        if idx >= 32: continue\n",
        "        plt.subplot(4,8, idx + 1)\n",
        "        plt.imshow(filt[0, :, :], cmap=\"gray\")\n",
        "        plt.axis('off')\n",
        "    \n",
        "    plt.show()\n",
        "\n",
        "def plot_kernel_output(model,images):\n",
        "    fig1 = plt.figure()\n",
        "    plt.figure(figsize=(1,1))\n",
        "    \n",
        "    img_normalized = (images[0] - images[0].min()) / (images[0].max() - images[0].min())\n",
        "    plt.imshow(img_normalized.numpy().transpose(1,2,0))\n",
        "    plt.show()\n",
        "    output = model.conv1(images)\n",
        "    layer_1 = output[0, :, :, :]\n",
        "    layer_1 = layer_1.data\n",
        "\n",
        "    fig = plt.figure()\n",
        "    plt.figure(figsize=(10,10))\n",
        "    for idx, filt  in enumerate(layer_1):\n",
        "        if idx >= 32: continue\n",
        "        plt.subplot(4,8, idx + 1)\n",
        "        plt.imshow(filt, cmap=\"gray\")\n",
        "        plt.axis('off')\n",
        "    plt.show()\n",
        "\n",
        "def test_accuracy(net, dataloader):\n",
        "  ########TESTING PHASE###########\n",
        "  \n",
        "    #check accuracy on whole test set\n",
        "    correct = 0\n",
        "    total = 0\n",
        "    net.eval() #important for deactivating dropout and correctly use batchnorm accumulated statistics\n",
        "    with torch.no_grad():\n",
        "        for data in dataloader:\n",
        "            images, labels = data\n",
        "            images = images.cuda()\n",
        "            labels = labels.cuda()\n",
        "            outputs = net(images)\n",
        "            _, predicted = torch.max(outputs.data, 1)\n",
        "            total += labels.size(0)\n",
        "            correct += (predicted == labels).sum().item()\n",
        "    accuracy = 100 * correct / total\n",
        "    print('Accuracy of the network on the test set: %d %%' % (\n",
        "    accuracy))\n",
        "    return accuracy\n",
        "\n",
        "    \n",
        "n_classes = 100 \n",
        "# function to define an old style fully connected network (multilayer perceptrons)\n",
        "class old_nn(nn.Module):\n",
        "    def __init__(self):\n",
        "        super(old_nn, self).__init__()\n",
        "        self.fc1 = nn.Linear(32*32*3, 4096)\n",
        "        self.fc2 = nn.Linear(4096, 4096)\n",
        "        self.fc3 = nn.Linear(4096, n_classes) #last FC for classification \n",
        "\n",
        "    def forward(self, x):\n",
        "        x = x.view(x.shape[0], -1)\n",
        "        x = F.sigmoid(self.fc1(x))\n",
        "        x = F.sigmoid(self.fc2(x))\n",
        "        x = self.fc3(x)\n",
        "        return x\n",
        "      \n",
        "      \n",
        "#function to define the convolutional network\n",
        "class CNN(nn.Module):\n",
        "    def __init__(self):\n",
        "        super(CNN, self).__init__()\n",
        "        #conv2d first parameter is the number of kernels at input (you get it from the output value of the previous layer)\n",
        "        #conv2d second parameter is the number of kernels you wanna have in your convolution, so it will be the n. of kernels at output.\n",
        "        #conv2d third, fourth and fifth parameters are, as you can read, kernel_size, stride and zero padding :)\n",
        "        self.conv1 = nn.Conv2d(3, 128, kernel_size=5, stride=2, padding=0)\n",
        "        self.conv2 = nn.Conv2d(128, 128, kernel_size=3, stride=1, padding=0)\n",
        "        self.conv3 = nn.Conv2d(128, 128, kernel_size=3, stride=1, padding=0)\n",
        "        self.pool = nn.MaxPool2d(kernel_size=2, stride=2, padding=0)\n",
        "        self.conv_final = nn.Conv2d(128, 256, kernel_size=3, stride=1, padding=0)\n",
        "        self.fc1 = nn.Linear(64 * 4 * 4 * 4, 4096)\n",
        "        self.fc2 = nn.Linear(4096, n_classes) #last FC for classification \n",
        "\n",
        "    def forward(self, x):\n",
        "        x = F.relu(self.conv1(x))\n",
        "        x = F.relu(self.conv2(x))\n",
        "        x = F.relu(self.conv3(x))\n",
        "        x = F.relu(self.pool(self.conv_final(x)))\n",
        "        x = x.view(x.shape[0], -1)\n",
        "        x = F.relu(self.fc1(x))\n",
        "        #hint: dropout goes here!\n",
        "        x = self.fc2(x)\n",
        "        return x\n"
      ],
      "execution_count": 0,
      "outputs": []
    },
    {
      "metadata": {
        "id": "VixTdwqJ8yAI",
        "colab_type": "code",
        "outputId": "3fa4b139-0f71-4d91-a0a1-90ed71a1a9fb",
        "colab": {
          "base_uri": "https://localhost:8080/",
          "height": 90
        }
      },
      "cell_type": "code",
      "source": [
        "\n",
        "      ####RUNNING CODE FROM HERE:\n",
        "print('Loading data...')      \n",
        "#transform are heavily used to do simple and complex transformation and data augmentation\n",
        "transform_train = transforms.Compose(\n",
        "    [\n",
        "     transforms.Resize((40,40)),\n",
        "     transforms.RandomCrop((32,32)),\n",
        "     transforms.Resize((32,32)),\n",
        "     transforms.ToTensor(),\n",
        "     transforms.Normalize((0.5, 0.5, 0.5), (0.5, 0.5, 0.5)),\n",
        "    ])\n",
        "\n",
        "transform_test = transforms.Compose(\n",
        "    [\n",
        "     transforms.Resize((32,32)),\n",
        "     transforms.ToTensor(),\n",
        "     transforms.Normalize((0.5, 0.5, 0.5), (0.5, 0.5, 0.5)),\n",
        "     ])\n",
        "\n",
        "trainset = torchvision.datasets.CIFAR100(root='./data', train=True,\n",
        "                                        download=True, transform=transform_train)\n",
        "trainloader = torch.utils.data.DataLoader(trainset, batch_size=256,\n",
        "                                          shuffle=True, num_workers=4,drop_last=True)\n",
        "\n",
        "testset = torchvision.datasets.CIFAR100(root='./data', train=False,\n",
        "                                       download=True, transform=transform_test)\n",
        "testloader = torch.utils.data.DataLoader(testset, batch_size=256,\n",
        "                                         shuffle=False, num_workers=4,drop_last=True)\n",
        "\n",
        "\n",
        "dataiter = iter(trainloader)\n",
        "\n",
        "print('Loading done')\n"
      ],
      "execution_count": 3,
      "outputs": [
        {
          "output_type": "stream",
          "text": [
            "Loading data...\n",
            "Files already downloaded and verified\n",
            "Files already downloaded and verified\n",
            "Loading done\n"
          ],
          "name": "stdout"
        }
      ]
    },
    {
      "metadata": {
        "id": "OQs4kmrB-E7E",
        "colab_type": "code",
        "outputId": "9332fc14-15f6-49cf-cf05-e55536aec8b3",
        "colab": {
          "base_uri": "https://localhost:8080/",
          "height": 35
        }
      },
      "cell_type": "code",
      "source": [
        "###OPTIONAL:\n",
        "# show images just to understand what is inside the dataset ;)\n",
        "#images, labels = dataiter.next()\n",
        "#imshow(torchvision.utils.make_grid(images))\n",
        "####\n",
        "\n",
        "\n",
        "#create the old style NN network\n",
        "#net = old_nn()\n",
        "###\n",
        "\n",
        "net = CNN()\n",
        "####\n",
        "#for Residual Network:\n",
        "#net = models.resnet18(pretrained=True)\n",
        "#net.fc = nn.Linear(512, n_classes) #changing the fully connected layer of the already allocated network\n",
        "####\n",
        "\n",
        "###OPTIONAL:\n",
        "#print(\"####plotting kernels of conv1 layer:####\")\n",
        "#plot_kernel(net)\n",
        "####\n",
        "\n",
        "\n",
        "net = net.cuda()\n",
        "\n",
        "criterion = nn.CrossEntropyLoss().cuda() #it already does softmax computation for use!\n",
        "optimizer = optim.Adam(net.parameters(), lr=0.0001) #better convergency w.r.t simple SGD :)\n",
        "\n",
        "###OPTIONAL:\n",
        "#print(\"####plotting output of conv1 layer:#####\")\n",
        "#plot_kernel_output(net,images)  \n",
        "###\n",
        "print('Ready to train')"
      ],
      "execution_count": 4,
      "outputs": [
        {
          "output_type": "stream",
          "text": [
            "Ready to train\n"
          ],
          "name": "stdout"
        }
      ]
    },
    {
      "metadata": {
        "id": "UQsI7e0N8jXz",
        "colab_type": "code",
        "outputId": "ac38a59b-1b7d-446f-af6e-d734fee22b3b",
        "colab": {
          "base_uri": "https://localhost:8080/",
          "height": 762
        }
      },
      "cell_type": "code",
      "source": [
        "########TRAINING PHASE###########\n",
        "t0 = time.time()\n",
        "n_loss_print = len(trainloader)  #print every epoch, use smaller numbers if you wanna print loss more often!\n",
        "n_epochs = 20\n",
        "accus = np.empty(n_epochs)\n",
        "losses = np.empty(n_epochs)\n",
        "for epoch in range(n_epochs):  # loop over the dataset multiple times\n",
        "    net.train() #important for activating dropout and correctly train batchnorm\n",
        "    running_loss = 0.0\n",
        "    for i, data in enumerate(trainloader, 0):\n",
        "        # get the inputs and cast them into cuda wrapper\n",
        "        inputs, labels = data\n",
        "        inputs = inputs.cuda()\n",
        "        labels = labels.cuda()\n",
        "        # zero the parameter gradients\n",
        "        optimizer.zero_grad()\n",
        "\n",
        "        # forward + backward + optimize\n",
        "        outputs = net(inputs)\n",
        "        loss = criterion(outputs, labels)\n",
        "        loss.backward()\n",
        "        optimizer.step()\n",
        "\n",
        "        # print statistics\n",
        "        running_loss += loss.item()\n",
        "        if i % n_loss_print == (n_loss_print -1):    \n",
        "            print('[%d, %5d] loss: %.3f' %\n",
        "                  (epoch + 1, i + 1, running_loss / n_loss_print))\n",
        "            losses[epoch] = running_loss / n_loss_print\n",
        "            running_loss = 0.0\n",
        "    accus[epoch] = test_accuracy(net,testloader)\n",
        "print('Finished Training in '+str(datetime.timedelta(seconds = time.time()-t0)))\n"
      ],
      "execution_count": 5,
      "outputs": [
        {
          "output_type": "stream",
          "text": [
            "[1,   195] loss: 4.152\n",
            "Accuracy of the network on the test set: 11 %\n",
            "[2,   195] loss: 3.754\n",
            "Accuracy of the network on the test set: 16 %\n",
            "[3,   195] loss: 3.552\n",
            "Accuracy of the network on the test set: 19 %\n",
            "[4,   195] loss: 3.395\n",
            "Accuracy of the network on the test set: 20 %\n",
            "[5,   195] loss: 3.260\n",
            "Accuracy of the network on the test set: 22 %\n",
            "[6,   195] loss: 3.151\n",
            "Accuracy of the network on the test set: 24 %\n",
            "[7,   195] loss: 3.063\n",
            "Accuracy of the network on the test set: 25 %\n",
            "[8,   195] loss: 2.974\n",
            "Accuracy of the network on the test set: 27 %\n",
            "[9,   195] loss: 2.894\n",
            "Accuracy of the network on the test set: 28 %\n",
            "[10,   195] loss: 2.814\n",
            "Accuracy of the network on the test set: 27 %\n",
            "[11,   195] loss: 2.745\n",
            "Accuracy of the network on the test set: 28 %\n",
            "[12,   195] loss: 2.670\n",
            "Accuracy of the network on the test set: 30 %\n",
            "[13,   195] loss: 2.600\n",
            "Accuracy of the network on the test set: 30 %\n",
            "[14,   195] loss: 2.531\n",
            "Accuracy of the network on the test set: 32 %\n",
            "[15,   195] loss: 2.453\n",
            "Accuracy of the network on the test set: 32 %\n",
            "[16,   195] loss: 2.384\n",
            "Accuracy of the network on the test set: 33 %\n",
            "[17,   195] loss: 2.317\n",
            "Accuracy of the network on the test set: 32 %\n",
            "[18,   195] loss: 2.243\n",
            "Accuracy of the network on the test set: 33 %\n",
            "[19,   195] loss: 2.169\n",
            "Accuracy of the network on the test set: 32 %\n",
            "[20,   195] loss: 2.101\n",
            "Accuracy of the network on the test set: 33 %\n",
            "Finished Training in 0:06:20.719809\n"
          ],
          "name": "stdout"
        }
      ]
    },
    {
      "metadata": {
        "id": "evWQ0m76i263",
        "colab_type": "code",
        "outputId": "27a9fc14-e31f-41d8-a12c-a567833c651d",
        "colab": {
          "base_uri": "https://localhost:8080/",
          "height": 311
        }
      },
      "cell_type": "code",
      "source": [
        "plt.plot(accus, label='Accuracy', marker='D', color='blue')\n",
        "plt.title('Accuracy curve')\n",
        "plt.tight_layout()\n",
        "plt.xticks(np.arange(0, n_epochs, step=1))\n",
        "plt.ylabel('Accuracy')\n",
        "plt.xlabel('Epochs')\n",
        "plt.show()\n",
        "\n"
      ],
      "execution_count": 6,
      "outputs": [
        {
          "output_type": "display_data",
          "data": {
            "image/png": "[encoded data removed]",
            "text/plain": [
              "<Figure size 432x288 with 1 Axes>"
            ]
          },
          "metadata": {
            "tags": []
          }
        }
      ]
    },
    {
      "metadata": {
        "id": "TEFmFy9_JkN0",
        "colab_type": "code",
        "outputId": "8ebefcbf-b349-41c5-f9ba-595d2a1e9f2c",
        "colab": {
          "base_uri": "https://localhost:8080/",
          "height": 311
        }
      },
      "cell_type": "code",
      "source": [
        "plt.plot(losses, label='Loss',marker='D',color='red')\n",
        "plt.title('Loss curve')\n",
        "plt.tight_layout()\n",
        "plt.xticks(np.arange(0, n_epochs, step=1))\n",
        "plt.ylabel('Loss')\n",
        "plt.xlabel('Epochs')\n",
        "plt.show()"
      ],
      "execution_count": 7,
      "outputs": [
        {
          "output_type": "display_data",
          "data": {
            "image/png": "[encoded data removed]",
            "text/plain": [
              "<Figure size 432x288 with 1 Axes>"
            ]
          },
          "metadata": {
            "tags": []
          }
        }
      ]
    }
  ]
}